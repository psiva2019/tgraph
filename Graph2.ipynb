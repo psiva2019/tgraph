{
 "cells": [
  {
   "cell_type": "code",
   "execution_count": 1,
   "id": "0004dd6c-263d-49c0-aa59-7d2f48c93b28",
   "metadata": {},
   "outputs": [],
   "source": [
    "#!pip install -U pyTigerGraph"
   ]
  },
  {
   "cell_type": "code",
   "execution_count": 2,
   "id": "32665d8e-12e9-4721-9777-1425193fa915",
   "metadata": {},
   "outputs": [],
   "source": [
    "# Imports\n",
    "import pyTigerGraph as tg\n",
    "import json\n",
    "import pandas as pd\n",
    "import os"
   ]
  },
  {
   "cell_type": "raw",
   "id": "f14d5f94-6b36-4796-ae1e-0d3688e3efba",
   "metadata": {},
   "source": [
    "Read data from FET File"
   ]
  },
  {
   "cell_type": "code",
   "execution_count": 3,
   "id": "215afdd4-87f1-4f2a-963b-6d8ffe8aae94",
   "metadata": {},
   "outputs": [],
   "source": [
    "pfiles  = r'FETFiles'\n",
    "os.listdir(pfiles)\n",
    "fetg = pd.read_excel(pfiles + '/Graph.xlsx')"
   ]
  },
  {
   "cell_type": "code",
   "execution_count": 4,
   "id": "8e92a39f-8b3b-4f47-a426-9ab65dd5a7df",
   "metadata": {},
   "outputs": [
    {
     "name": "stdout",
     "output_type": "stream",
     "text": [
      "<class 'pandas.core.frame.DataFrame'>\n",
      "RangeIndex: 38 entries, 0 to 37\n",
      "Data columns (total 12 columns):\n",
      " #   Column               Non-Null Count  Dtype \n",
      "---  ------               --------------  ----- \n",
      " 0   Index                38 non-null     int64 \n",
      " 1   x_min                38 non-null     int64 \n",
      " 2   y_min                38 non-null     int64 \n",
      " 3   x_max                38 non-null     int64 \n",
      " 4   Y_max                38 non-null     int64 \n",
      " 5   text                 38 non-null     object\n",
      " 6   side_node_idx        38 non-null     int64 \n",
      " 7   side_node_text       10 non-null     object\n",
      " 8   side_node_distance   38 non-null     int64 \n",
      " 9   below_node_idx       38 non-null     int64 \n",
      " 10  below_node_text      34 non-null     object\n",
      " 11  below_node_distance  38 non-null     int64 \n",
      "dtypes: int64(9), object(3)\n",
      "memory usage: 3.7+ KB\n"
     ]
    }
   ],
   "source": [
    "fetg.info()"
   ]
  },
  {
   "cell_type": "code",
   "execution_count": 5,
   "id": "ccaae6d0-3dfb-4224-afcc-d9c7fc0ef836",
   "metadata": {},
   "outputs": [],
   "source": [
    "textnode = fetg[['Index','text']]\n",
    "sidenode = fetg[['Index','side_node_idx','Index','side_node_text']]\n",
    "belownode = fetg[['Index','below_node_idx','Index','below_node_text']]"
   ]
  },
  {
   "cell_type": "code",
   "execution_count": 6,
   "id": "81196a30-ab0d-47ac-91e7-efef99490c6f",
   "metadata": {},
   "outputs": [],
   "source": [
    "tfilename  = 'FETFiles/g_configs/textnode.csv'\n",
    "snfilename = 'FETFiles/g_configs/snnode.csv'\n",
    "dnfilename = 'FETFiles/g_configs/dnnode.csv'"
   ]
  },
  {
   "cell_type": "code",
   "execution_count": 7,
   "id": "f6bc45fc-8f0b-4457-94ec-15800fa185c6",
   "metadata": {},
   "outputs": [],
   "source": [
    "# textnode['Index'].fillna(-1,inplace=True)\n",
    "# sidenode['Index'].fillna(-1,inplace=True)\n",
    "# belownode['Index'].fillna(-1,inplace=True)\n",
    "\n",
    "# sidenode['side_node_idx'].fillna(-1,inplace=True)\n",
    "# belownode['below_node_idx'].fillna(-1,inplace=True)"
   ]
  },
  {
   "cell_type": "code",
   "execution_count": 8,
   "id": "b81b10d7-2e9d-4751-ba59-307f35a67779",
   "metadata": {},
   "outputs": [],
   "source": [
    "textnode.to_csv(tfilename,index=False)\n",
    "sidenode.to_csv(snfilename,index=False)\n",
    "belownode.to_csv(dnfilename,index=False)"
   ]
  },
  {
   "cell_type": "code",
   "execution_count": 9,
   "id": "e511532f-9ab2-4944-86f4-c369b04bf39c",
   "metadata": {},
   "outputs": [],
   "source": [
    "# Connection parameters\n",
    "hostName = \"https://8b63e18824d24d80b8579495e8bdaf13.i.tgcloud.io\"\n",
    "userName = \"user_1\"\n",
    "password = \"Preetha_021\""
   ]
  },
  {
   "cell_type": "code",
   "execution_count": 10,
   "id": "2c99e7f6-c3bf-4f34-8837-35139b6b32a6",
   "metadata": {},
   "outputs": [],
   "source": [
    "graph_name = 'FET_New1'"
   ]
  },
  {
   "cell_type": "code",
   "execution_count": 11,
   "id": "4824f6be-1ae7-4368-b5f7-f55da18aeeb6",
   "metadata": {},
   "outputs": [],
   "source": [
    "conn = tg.TigerGraphConnection(host=hostName, username=userName, password=password,graphname=graph_name)"
   ]
  },
  {
   "cell_type": "code",
   "execution_count": 12,
   "id": "61c3a753-6875-4a06-ae44-a39aa55ecfb7",
   "metadata": {},
   "outputs": [
    {
     "name": "stderr",
     "output_type": "stream",
     "text": [
      "/Users/s/anaconda3/lib/python3.10/site-packages/pyTigerDriver/pyDriver.py:205: DeprecationWarning: ssl.PROTOCOL_TLS is deprecated\n",
      "  self._context = ssl.SSLContext(ssl.PROTOCOL_SSLv23)\n"
     ]
    },
    {
     "name": "stdout",
     "output_type": "stream",
     "text": [
      "The graph FET_New1 is created.\n"
     ]
    }
   ],
   "source": [
    "results = conn.gsql(\n",
    "'''\n",
    "CREATE GRAPH %s ()\n",
    "''' % (graph_name)\n",
    ")\n",
    "    \n",
    "print(results)"
   ]
  },
  {
   "cell_type": "code",
   "execution_count": 13,
   "id": "e2c5fd51-1aeb-44fd-8c6a-efebbc9ff739",
   "metadata": {},
   "outputs": [
    {
     "data": {
      "text/plain": [
       "'---- Global vertices, edges, and all graphs\\nVertex Types:\\nEdge Types:\\n\\nGraphs:\\n- Graph Person(Application:v, Inventor:v, has_inventor:e)\\n- Graph FET_Graph(text:v, belownode:v, sidenode:v, sideedge:e, reverse_sideedge:e, sidetotext:e, reverse_sidetotext:e, belowedge:e, reverse_belowedge:e, belowtotext:e)\\n- Graph imdb(Movie:v, Actor:v, Director:v, actor_movie:e, director_movie:e, movie_actor:e, movie_director:e)\\n- Graph FET_New1()\\nJobs:\\n\\n\\nJSON API version: v2\\nSyntax version: v2\\n'"
      ]
     },
     "execution_count": 13,
     "metadata": {},
     "output_type": "execute_result"
    }
   ],
   "source": [
    "conn.gsql(\"LS\")"
   ]
  },
  {
   "cell_type": "code",
   "execution_count": 14,
   "id": "42e75b5b-3343-4c5b-b3a0-64ac2cec6508",
   "metadata": {},
   "outputs": [],
   "source": [
    "secret = conn.createSecret()"
   ]
  },
  {
   "cell_type": "code",
   "execution_count": 15,
   "id": "78b6ea6c-1035-4cfd-bc11-54ed500af9c3",
   "metadata": {},
   "outputs": [],
   "source": [
    "authToken = conn.getToken(secret)[0]"
   ]
  },
  {
   "cell_type": "code",
   "execution_count": 16,
   "id": "f0a2faf5-b2c7-498f-8255-0539bb11ed8f",
   "metadata": {},
   "outputs": [
    {
     "data": {
      "text/plain": [
       "{}"
      ]
     },
     "execution_count": 16,
     "metadata": {},
     "output_type": "execute_result"
    }
   ],
   "source": [
    "conn.getVertexCount(\"*\")"
   ]
  },
  {
   "cell_type": "code",
   "execution_count": 17,
   "id": "62972b3b-34c0-4994-86ab-53a382bb0e0c",
   "metadata": {},
   "outputs": [
    {
     "name": "stdout",
     "output_type": "stream",
     "text": [
      "Using graph 'FET_New1'\n",
      "Successfully created schema change jobs: [FET_New2].\n",
      "Kick off schema change job FET_New2\n",
      "Doing schema change on graph 'FET_New1' (current version: 0)\n",
      "Trying to add local vertex 'Text' to the graph 'FET_New1'.\n",
      "Trying to add local edge 'side_node_edge' to the graph 'FET_New1'.\n",
      "Trying to add local edge 'down_node_egde' to the graph 'FET_New1'.\n",
      "\n",
      "Graph FET_New1 updated to new version 1\n",
      "The job FET_New2 completes in 2.096 seconds!\n",
      "Local schema change succeeded.\n"
     ]
    }
   ],
   "source": [
    "results = conn.gsql(\n",
    "    ''' \n",
    "    USE GRAPH FET_New1\n",
    "    \n",
    "    # Create vertex and edge type \n",
    "    CREATE SCHEMA_CHANGE JOB FET_New2 FOR GRAPH FET_New1 {\n",
    "        ADD VERTEX Text (PRIMARY_ID id INT, value STRING) WITH primary_id_as_attribute=\"true\";\n",
    "        ADD UNDIRECTED EDGE side_node_edge (FROM Text, TO Text, id INT, value STRING);\n",
    "        ADD UNDIRECTED EDGE down_node_egde (FROM Text, TO Text, id INT, value STRING);\n",
    "    }\n",
    "    \n",
    "    RUN SCHEMA_CHANGE JOB FET_New2\n",
    "    '''\n",
    ")\n",
    "\n",
    "print (results)"
   ]
  },
  {
   "cell_type": "code",
   "execution_count": 18,
   "id": "decc2ba7-7d5c-4ea3-8772-dc99bf34414d",
   "metadata": {},
   "outputs": [
    {
     "name": "stdout",
     "output_type": "stream",
     "text": [
      "Using graph 'FET_New1'\n",
      "Successfully created loading jobs: [load_FET_New2].\n"
     ]
    }
   ],
   "source": [
    "results = conn.gsql(\n",
    "    '''\n",
    "    USE GRAPH FET_New1\n",
    "\n",
    "    CREATE LOADING JOB load_FET_New2 FOR GRAPH FET_New1 {\n",
    "        DEFINE FILENAME text_file;\n",
    "        DEFINE FILENAME side_node_file;\n",
    "        DEFINE FILENAME below_node_file;\n",
    "\n",
    "        \n",
    "        \n",
    "        LOAD text_file\n",
    "            TO VERTEX Text VALUES ($0, $1)\n",
    "            USING Header=\"true\",  separator=\",\";\n",
    "            \n",
    "        LOAD side_node_file\n",
    "            TO EDGE side_node_edge VALUES ($0,$1,$2,$3)\n",
    "            USING Header=\"true\", separator=\",\";\n",
    "\n",
    "        LOAD below_node_file\n",
    "            TO EDGE down_node_egde VALUES ($0,$1,$2,$3)\n",
    "            USING Header=\"true\", separator=\",\";       \n",
    "    }\n",
    "    '''\n",
    ")\n",
    "\n",
    "print (results)"
   ]
  },
  {
   "cell_type": "code",
   "execution_count": 19,
   "id": "b0edea03-8226-4b2f-ac4d-2b93f1d17fbf",
   "metadata": {},
   "outputs": [
    {
     "name": "stdout",
     "output_type": "stream",
     "text": [
      "[{'sourceFileName': 'Online_POST', 'statistics': {'sourceFileName': 'Online_POST', 'parsingStatistics': {'fileLevel': {'validLine': 39}, 'objectLevel': {'vertex': [{'typeName': 'Text', 'validObject': 38, 'invalidPrimaryId': 1}], 'edge': [], 'deleteVertex': [], 'deleteEdge': []}}}}]\n"
     ]
    }
   ],
   "source": [
    "uploadTextFile = conn.runLoadingJobWithFile(tfilename, \"text_file\", \"load_FET_New2\", \",\")\n",
    "print (uploadTextFile)"
   ]
  },
  {
   "cell_type": "code",
   "execution_count": 20,
   "id": "b6aeb829-0754-4e5e-abb4-8e50643560ef",
   "metadata": {},
   "outputs": [
    {
     "name": "stdout",
     "output_type": "stream",
     "text": [
      "[{'sourceFileName': 'Online_POST', 'statistics': {'sourceFileName': 'Online_POST', 'parsingStatistics': {'fileLevel': {'validLine': 39}, 'objectLevel': {'vertex': [], 'edge': [{'typeName': 'side_node_edge', 'validObject': 38, 'invalidPrimaryId': 1}], 'deleteVertex': [], 'deleteEdge': []}}}}]\n"
     ]
    }
   ],
   "source": [
    "uploadSideNodeFile = conn.runLoadingJobWithFile(snfilename, \"side_node_file\", \"load_FET_New2\", \",\")\n",
    "print (uploadSideNodeFile)"
   ]
  },
  {
   "cell_type": "code",
   "execution_count": 21,
   "id": "11e86bd2-b4f0-447b-94a6-9148c0d41775",
   "metadata": {},
   "outputs": [
    {
     "name": "stdout",
     "output_type": "stream",
     "text": [
      "[{'sourceFileName': 'Online_POST', 'statistics': {'sourceFileName': 'Online_POST', 'parsingStatistics': {'fileLevel': {'validLine': 39}, 'objectLevel': {'vertex': [], 'edge': [{'typeName': 'down_node_egde', 'validObject': 38, 'invalidPrimaryId': 1}], 'deleteVertex': [], 'deleteEdge': []}}}}]\n"
     ]
    }
   ],
   "source": [
    "uploadDownNodeFile = conn.runLoadingJobWithFile(dnfilename, \"below_node_file\", \"load_FET_New2\", \",\")\n",
    "print (uploadDownNodeFile)"
   ]
  },
  {
   "cell_type": "code",
   "execution_count": 22,
   "id": "a3e5c081-985a-4bce-991f-7990a395e532",
   "metadata": {},
   "outputs": [
    {
     "name": "stdout",
     "output_type": "stream",
     "text": [
      "Node count: (Text : 28) \n",
      "Total node count:  28\n"
     ]
    }
   ],
   "source": [
    "vertices = conn.getVertexTypes()\n",
    "total_count = 0\n",
    "for vertex in vertices:\n",
    "    vertex_cnt = conn.getVertexCount(vertex)\n",
    "    total_count += vertex_cnt\n",
    "    print(\"Node count: ({} : {}) \".format(vertex, vertex_cnt))\n",
    "print(\"Total node count: \", total_count)"
   ]
  },
  {
   "cell_type": "code",
   "execution_count": 23,
   "id": "524cc724-62bb-4401-8893-02bd26df8327",
   "metadata": {},
   "outputs": [
    {
     "data": {
      "text/plain": [
       "{'Text': 36}"
      ]
     },
     "execution_count": 23,
     "metadata": {},
     "output_type": "execute_result"
    }
   ],
   "source": [
    "conn.getVertexCount(\"*\")"
   ]
  },
  {
   "cell_type": "code",
   "execution_count": 24,
   "id": "6c0c2978-f0ed-4b8b-a7a0-05b1bb8a74e9",
   "metadata": {},
   "outputs": [
    {
     "data": {
      "text/plain": [
       "{'side_node_edge': 38, 'down_node_egde': 38}"
      ]
     },
     "execution_count": 24,
     "metadata": {},
     "output_type": "execute_result"
    }
   ],
   "source": [
    "conn.getEdgeCount(\"*\")"
   ]
  },
  {
   "cell_type": "code",
   "execution_count": 25,
   "id": "6d1e328b-8bf0-4966-82ff-41fbd1f0546d",
   "metadata": {},
   "outputs": [
    {
     "data": {
      "text/html": [
       "<div>\n",
       "<style scoped>\n",
       "    .dataframe tbody tr th:only-of-type {\n",
       "        vertical-align: middle;\n",
       "    }\n",
       "\n",
       "    .dataframe tbody tr th {\n",
       "        vertical-align: top;\n",
       "    }\n",
       "\n",
       "    .dataframe thead th {\n",
       "        text-align: right;\n",
       "    }\n",
       "</style>\n",
       "<table border=\"1\" class=\"dataframe\">\n",
       "  <thead>\n",
       "    <tr style=\"text-align: right;\">\n",
       "      <th></th>\n",
       "      <th>v_id</th>\n",
       "      <th>v_type</th>\n",
       "      <th>attributes.id</th>\n",
       "      <th>attributes.value</th>\n",
       "    </tr>\n",
       "  </thead>\n",
       "  <tbody>\n",
       "    <tr>\n",
       "      <th>0</th>\n",
       "      <td>3</td>\n",
       "      <td>Text</td>\n",
       "      <td>3</td>\n",
       "      <td>Attn: Mr. Sundar</td>\n",
       "    </tr>\n",
       "  </tbody>\n",
       "</table>\n",
       "</div>"
      ],
      "text/plain": [
       "  v_id v_type  attributes.id  attributes.value\n",
       "0    3   Text              3  Attn: Mr. Sundar"
      ]
     },
     "execution_count": 25,
     "metadata": {},
     "output_type": "execute_result"
    }
   ],
   "source": [
    "import pandas as pd\n",
    "\n",
    "tom = conn.getVerticesById(\"Text\", \"3\")\n",
    "\n",
    "pd.json_normalize(tom)"
   ]
  },
  {
   "cell_type": "code",
   "execution_count": 26,
   "id": "84aa9e28-719b-457f-be34-ab9f658c639a",
   "metadata": {},
   "outputs": [
    {
     "data": {
      "text/html": [
       "<div>\n",
       "<style scoped>\n",
       "    .dataframe tbody tr th:only-of-type {\n",
       "        vertical-align: middle;\n",
       "    }\n",
       "\n",
       "    .dataframe tbody tr th {\n",
       "        vertical-align: top;\n",
       "    }\n",
       "\n",
       "    .dataframe thead th {\n",
       "        text-align: right;\n",
       "    }\n",
       "</style>\n",
       "<table border=\"1\" class=\"dataframe\">\n",
       "  <thead>\n",
       "    <tr style=\"text-align: right;\">\n",
       "      <th></th>\n",
       "      <th>e_type</th>\n",
       "      <th>directed</th>\n",
       "      <th>from_id</th>\n",
       "      <th>from_type</th>\n",
       "      <th>to_id</th>\n",
       "      <th>to_type</th>\n",
       "      <th>attributes.id</th>\n",
       "      <th>attributes.value</th>\n",
       "    </tr>\n",
       "  </thead>\n",
       "  <tbody>\n",
       "    <tr>\n",
       "      <th>0</th>\n",
       "      <td>side_node_edge</td>\n",
       "      <td>False</td>\n",
       "      <td>29</td>\n",
       "      <td>Text</td>\n",
       "      <td>30</td>\n",
       "      <td>Text</td>\n",
       "      <td>29</td>\n",
       "      <td>7500</td>\n",
       "    </tr>\n",
       "    <tr>\n",
       "      <th>1</th>\n",
       "      <td>side_node_edge</td>\n",
       "      <td>False</td>\n",
       "      <td>29</td>\n",
       "      <td>Text</td>\n",
       "      <td>28</td>\n",
       "      <td>Text</td>\n",
       "      <td>28</td>\n",
       "      <td>EUR</td>\n",
       "    </tr>\n",
       "  </tbody>\n",
       "</table>\n",
       "</div>"
      ],
      "text/plain": [
       "           e_type  directed from_id from_type to_id to_type  attributes.id  \\\n",
       "0  side_node_edge     False      29      Text    30    Text             29   \n",
       "1  side_node_edge     False      29      Text    28    Text             28   \n",
       "\n",
       "  attributes.value  \n",
       "0             7500  \n",
       "1              EUR  "
      ]
     },
     "execution_count": 26,
     "metadata": {},
     "output_type": "execute_result"
    }
   ],
   "source": [
    "sideedge = conn.getEdges(\"Text\", \"29\", \"side_node_edge\")\n",
    "\n",
    "pd.json_normalize(sideedge)"
   ]
  },
  {
   "cell_type": "code",
   "execution_count": 27,
   "id": "6f268ed1-a40e-44de-adca-d61c681c5632",
   "metadata": {},
   "outputs": [
    {
     "data": {
      "text/html": [
       "<div>\n",
       "<style scoped>\n",
       "    .dataframe tbody tr th:only-of-type {\n",
       "        vertical-align: middle;\n",
       "    }\n",
       "\n",
       "    .dataframe tbody tr th {\n",
       "        vertical-align: top;\n",
       "    }\n",
       "\n",
       "    .dataframe thead th {\n",
       "        text-align: right;\n",
       "    }\n",
       "</style>\n",
       "<table border=\"1\" class=\"dataframe\">\n",
       "  <thead>\n",
       "    <tr style=\"text-align: right;\">\n",
       "      <th></th>\n",
       "      <th>e_type</th>\n",
       "      <th>directed</th>\n",
       "      <th>from_id</th>\n",
       "      <th>from_type</th>\n",
       "      <th>to_id</th>\n",
       "      <th>to_type</th>\n",
       "      <th>attributes.id</th>\n",
       "      <th>attributes.value</th>\n",
       "    </tr>\n",
       "  </thead>\n",
       "  <tbody>\n",
       "    <tr>\n",
       "      <th>0</th>\n",
       "      <td>down_node_egde</td>\n",
       "      <td>False</td>\n",
       "      <td>25</td>\n",
       "      <td>Text</td>\n",
       "      <td>25</td>\n",
       "      <td>Text</td>\n",
       "      <td>25</td>\n",
       "      <td>Annual Membership Fee 2022 (Circular 5335)</td>\n",
       "    </tr>\n",
       "  </tbody>\n",
       "</table>\n",
       "</div>"
      ],
      "text/plain": [
       "           e_type  directed from_id from_type to_id to_type  attributes.id  \\\n",
       "0  down_node_egde     False      25      Text    25    Text             25   \n",
       "\n",
       "                             attributes.value  \n",
       "0  Annual Membership Fee 2022 (Circular 5335)  "
      ]
     },
     "execution_count": 27,
     "metadata": {},
     "output_type": "execute_result"
    }
   ],
   "source": [
    "downedge = conn.getEdges(\"Text\", \"25\", \"down_node_egde\")\n",
    "\n",
    "pd.json_normalize(downedge)"
   ]
  },
  {
   "cell_type": "code",
   "execution_count": null,
   "id": "5e129d76-ef0d-4726-8fef-bb86bbdf5b81",
   "metadata": {},
   "outputs": [],
   "source": []
  }
 ],
 "metadata": {
  "kernelspec": {
   "display_name": "Python 3 (ipykernel)",
   "language": "python",
   "name": "python3"
  },
  "language_info": {
   "codemirror_mode": {
    "name": "ipython",
    "version": 3
   },
   "file_extension": ".py",
   "mimetype": "text/x-python",
   "name": "python",
   "nbconvert_exporter": "python",
   "pygments_lexer": "ipython3",
   "version": "3.10.9"
  }
 },
 "nbformat": 4,
 "nbformat_minor": 5
}
