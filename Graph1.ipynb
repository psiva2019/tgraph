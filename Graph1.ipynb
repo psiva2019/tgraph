{
 "cells": [
  {
   "cell_type": "code",
   "execution_count": 1,
   "id": "0004dd6c-263d-49c0-aa59-7d2f48c93b28",
   "metadata": {},
   "outputs": [],
   "source": [
    "#!pip install -U pyTigerGraph"
   ]
  },
  {
   "cell_type": "code",
   "execution_count": 2,
   "id": "32665d8e-12e9-4721-9777-1425193fa915",
   "metadata": {},
   "outputs": [],
   "source": [
    "# Imports\n",
    "import pyTigerGraph as tg\n",
    "import json\n",
    "import pandas as pd\n",
    "import os"
   ]
  },
  {
   "cell_type": "raw",
   "id": "f14d5f94-6b36-4796-ae1e-0d3688e3efba",
   "metadata": {},
   "source": [
    "Read data from FET File"
   ]
  },
  {
   "cell_type": "code",
   "execution_count": 3,
   "id": "e511532f-9ab2-4944-86f4-c369b04bf39c",
   "metadata": {},
   "outputs": [],
   "source": [
    "# Connection parameters\n",
    "hostName = \"https://8b63e18824d24d80b8579495e8bdaf13.i.tgcloud.io\"\n",
    "userName = \"user_1\"\n",
    "password = \"Preetha_021\""
   ]
  },
  {
   "cell_type": "code",
   "execution_count": 4,
   "id": "2c99e7f6-c3bf-4f34-8837-35139b6b32a6",
   "metadata": {},
   "outputs": [],
   "source": [
    "graph_name = 'FET_New1'"
   ]
  },
  {
   "cell_type": "code",
   "execution_count": 5,
   "id": "4824f6be-1ae7-4368-b5f7-f55da18aeeb6",
   "metadata": {},
   "outputs": [],
   "source": [
    "conn = tg.TigerGraphConnection(host=hostName, username=userName, password=password,graphname=graph_name)"
   ]
  },
  {
   "cell_type": "code",
   "execution_count": 6,
   "id": "e2c5fd51-1aeb-44fd-8c6a-efebbc9ff739",
   "metadata": {},
   "outputs": [
    {
     "name": "stderr",
     "output_type": "stream",
     "text": [
      "/Users/s/anaconda3/lib/python3.10/site-packages/pyTigerDriver/pyDriver.py:205: DeprecationWarning: ssl.PROTOCOL_TLS is deprecated\n",
      "  self._context = ssl.SSLContext(ssl.PROTOCOL_SSLv23)\n"
     ]
    },
    {
     "data": {
      "text/plain": [
       "'---- Global vertices, edges, and all graphs\\nVertex Types:\\nEdge Types:\\n\\nGraphs:\\n- Graph Person(Application:v, Inventor:v, has_inventor:e)\\n- Graph FET_Graph(text:v, belownode:v, sidenode:v, sideedge:e, reverse_sideedge:e, sidetotext:e, reverse_sidetotext:e, belowedge:e, reverse_belowedge:e, belowtotext:e)\\n- Graph imdb(Movie:v, Actor:v, Director:v, actor_movie:e, director_movie:e, movie_actor:e, movie_director:e)\\n- Graph FET_New1(Text:v, side_node_edge:e, down_node_egde:e)\\nJobs:\\n\\n\\nJSON API version: v2\\nSyntax version: v2\\n'"
      ]
     },
     "execution_count": 6,
     "metadata": {},
     "output_type": "execute_result"
    }
   ],
   "source": [
    "conn.gsql(\"LS\")"
   ]
  },
  {
   "cell_type": "code",
   "execution_count": 7,
   "id": "42e75b5b-3343-4c5b-b3a0-64ac2cec6508",
   "metadata": {},
   "outputs": [],
   "source": [
    "secret = conn.createSecret()"
   ]
  },
  {
   "cell_type": "code",
   "execution_count": 8,
   "id": "78b6ea6c-1035-4cfd-bc11-54ed500af9c3",
   "metadata": {},
   "outputs": [],
   "source": [
    "authToken = conn.getToken(secret)[0]"
   ]
  },
  {
   "cell_type": "code",
   "execution_count": 9,
   "id": "f0a2faf5-b2c7-498f-8255-0539bb11ed8f",
   "metadata": {},
   "outputs": [
    {
     "data": {
      "text/plain": [
       "{'Text': 40}"
      ]
     },
     "execution_count": 9,
     "metadata": {},
     "output_type": "execute_result"
    }
   ],
   "source": [
    "conn.getVertexCount(\"*\")"
   ]
  },
  {
   "cell_type": "code",
   "execution_count": 10,
   "id": "a3e5c081-985a-4bce-991f-7990a395e532",
   "metadata": {},
   "outputs": [
    {
     "name": "stdout",
     "output_type": "stream",
     "text": [
      "Node count: (Text : 40) \n",
      "Total node count:  40\n"
     ]
    }
   ],
   "source": [
    "vertices = conn.getVertexTypes()\n",
    "total_count = 0\n",
    "for vertex in vertices:\n",
    "    vertex_cnt = conn.getVertexCount(vertex)\n",
    "    total_count += vertex_cnt\n",
    "    print(\"Node count: ({} : {}) \".format(vertex, vertex_cnt))\n",
    "print(\"Total node count: \", total_count)"
   ]
  },
  {
   "cell_type": "code",
   "execution_count": 11,
   "id": "15b86129-fb13-41ab-ac74-83e146b579fe",
   "metadata": {},
   "outputs": [
    {
     "data": {
      "text/html": [
       "<div>\n",
       "<style scoped>\n",
       "    .dataframe tbody tr th:only-of-type {\n",
       "        vertical-align: middle;\n",
       "    }\n",
       "\n",
       "    .dataframe tbody tr th {\n",
       "        vertical-align: top;\n",
       "    }\n",
       "\n",
       "    .dataframe thead th {\n",
       "        text-align: right;\n",
       "    }\n",
       "</style>\n",
       "<table border=\"1\" class=\"dataframe\">\n",
       "  <thead>\n",
       "    <tr style=\"text-align: right;\">\n",
       "      <th></th>\n",
       "      <th>v_id</th>\n",
       "      <th>v_type</th>\n",
       "      <th>attributes.id</th>\n",
       "      <th>attributes.value</th>\n",
       "    </tr>\n",
       "  </thead>\n",
       "  <tbody>\n",
       "    <tr>\n",
       "      <th>0</th>\n",
       "      <td>1</td>\n",
       "      <td>Text</td>\n",
       "      <td>1</td>\n",
       "      <td>Siva&amp;Co</td>\n",
       "    </tr>\n",
       "  </tbody>\n",
       "</table>\n",
       "</div>"
      ],
      "text/plain": [
       "  v_id v_type  attributes.id attributes.value\n",
       "0    1   Text              1          Siva&Co"
      ]
     },
     "execution_count": 11,
     "metadata": {},
     "output_type": "execute_result"
    }
   ],
   "source": [
    "import pandas as pd\n",
    "\n",
    "tom = conn.getVerticesById(\"Text\", \"1\")\n",
    "\n",
    "pd.json_normalize(tom)"
   ]
  },
  {
   "cell_type": "code",
   "execution_count": 12,
   "id": "85429d2b-b8a4-4c16-bc63-af1d2d74a6d4",
   "metadata": {},
   "outputs": [
    {
     "data": {
      "text/html": [
       "<div>\n",
       "<style scoped>\n",
       "    .dataframe tbody tr th:only-of-type {\n",
       "        vertical-align: middle;\n",
       "    }\n",
       "\n",
       "    .dataframe tbody tr th {\n",
       "        vertical-align: top;\n",
       "    }\n",
       "\n",
       "    .dataframe thead th {\n",
       "        text-align: right;\n",
       "    }\n",
       "</style>\n",
       "<table border=\"1\" class=\"dataframe\">\n",
       "  <thead>\n",
       "    <tr style=\"text-align: right;\">\n",
       "      <th></th>\n",
       "      <th>e_type</th>\n",
       "      <th>directed</th>\n",
       "      <th>from_id</th>\n",
       "      <th>from_type</th>\n",
       "      <th>to_id</th>\n",
       "      <th>to_type</th>\n",
       "      <th>attributes.id</th>\n",
       "      <th>attributes.value</th>\n",
       "    </tr>\n",
       "  </thead>\n",
       "  <tbody>\n",
       "    <tr>\n",
       "      <th>0</th>\n",
       "      <td>side_node_edge</td>\n",
       "      <td>False</td>\n",
       "      <td>1</td>\n",
       "      <td>Text</td>\n",
       "      <td>11</td>\n",
       "      <td>Text</td>\n",
       "      <td>1</td>\n",
       "      <td>Invoice date</td>\n",
       "    </tr>\n",
       "  </tbody>\n",
       "</table>\n",
       "</div>"
      ],
      "text/plain": [
       "           e_type  directed from_id from_type to_id to_type  attributes.id  \\\n",
       "0  side_node_edge     False       1      Text    11    Text              1   \n",
       "\n",
       "  attributes.value  \n",
       "0     Invoice date  "
      ]
     },
     "execution_count": 12,
     "metadata": {},
     "output_type": "execute_result"
    }
   ],
   "source": [
    "sideedge = conn.getEdges(\"Text\", \"1\", \"side_node_edge\")\n",
    "\n",
    "pd.json_normalize(sideedge)"
   ]
  },
  {
   "cell_type": "code",
   "execution_count": 13,
   "id": "f3fbbaee-aecb-4f70-ad15-35f1d38d9b95",
   "metadata": {},
   "outputs": [
    {
     "data": {
      "text/html": [
       "<div>\n",
       "<style scoped>\n",
       "    .dataframe tbody tr th:only-of-type {\n",
       "        vertical-align: middle;\n",
       "    }\n",
       "\n",
       "    .dataframe tbody tr th {\n",
       "        vertical-align: top;\n",
       "    }\n",
       "\n",
       "    .dataframe thead th {\n",
       "        text-align: right;\n",
       "    }\n",
       "</style>\n",
       "<table border=\"1\" class=\"dataframe\">\n",
       "  <thead>\n",
       "    <tr style=\"text-align: right;\">\n",
       "      <th></th>\n",
       "      <th>e_type</th>\n",
       "      <th>directed</th>\n",
       "      <th>from_id</th>\n",
       "      <th>from_type</th>\n",
       "      <th>to_id</th>\n",
       "      <th>to_type</th>\n",
       "      <th>attributes.id</th>\n",
       "      <th>attributes.value</th>\n",
       "    </tr>\n",
       "  </thead>\n",
       "  <tbody>\n",
       "    <tr>\n",
       "      <th>1</th>\n",
       "      <td>down_node_egde</td>\n",
       "      <td>False</td>\n",
       "      <td>11</td>\n",
       "      <td>Text</td>\n",
       "      <td>10</td>\n",
       "      <td>Text</td>\n",
       "      <td>10</td>\n",
       "      <td>Invoice date</td>\n",
       "    </tr>\n",
       "    <tr>\n",
       "      <th>0</th>\n",
       "      <td>down_node_egde</td>\n",
       "      <td>False</td>\n",
       "      <td>11</td>\n",
       "      <td>Text</td>\n",
       "      <td>12</td>\n",
       "      <td>Text</td>\n",
       "      <td>11</td>\n",
       "      <td>2021-11-30 00:00:00</td>\n",
       "    </tr>\n",
       "  </tbody>\n",
       "</table>\n",
       "</div>"
      ],
      "text/plain": [
       "           e_type  directed from_id from_type to_id to_type  attributes.id  \\\n",
       "1  down_node_egde     False      11      Text    10    Text             10   \n",
       "0  down_node_egde     False      11      Text    12    Text             11   \n",
       "\n",
       "      attributes.value  \n",
       "1         Invoice date  \n",
       "0  2021-11-30 00:00:00  "
      ]
     },
     "execution_count": 13,
     "metadata": {},
     "output_type": "execute_result"
    }
   ],
   "source": [
    "downedge = conn.getEdges(\"Text\", \"11\", \"down_node_egde\")\n",
    "\n",
    "pd.json_normalize(downedge).sort_values(by='attributes.id')"
   ]
  },
  {
   "cell_type": "code",
   "execution_count": 14,
   "id": "66725b4d-f4ed-41ef-891c-8fc4c90a8196",
   "metadata": {},
   "outputs": [
    {
     "data": {
      "text/html": [
       "<div>\n",
       "<style scoped>\n",
       "    .dataframe tbody tr th:only-of-type {\n",
       "        vertical-align: middle;\n",
       "    }\n",
       "\n",
       "    .dataframe tbody tr th {\n",
       "        vertical-align: top;\n",
       "    }\n",
       "\n",
       "    .dataframe thead th {\n",
       "        text-align: right;\n",
       "    }\n",
       "</style>\n",
       "<table border=\"1\" class=\"dataframe\">\n",
       "  <thead>\n",
       "    <tr style=\"text-align: right;\">\n",
       "      <th></th>\n",
       "      <th>e_type</th>\n",
       "      <th>directed</th>\n",
       "      <th>from_id</th>\n",
       "      <th>from_type</th>\n",
       "      <th>to_id</th>\n",
       "      <th>to_type</th>\n",
       "      <th>attributes.value</th>\n",
       "    </tr>\n",
       "  </thead>\n",
       "  <tbody>\n",
       "    <tr>\n",
       "      <th>0</th>\n",
       "      <td>down_node_egde</td>\n",
       "      <td>False</td>\n",
       "      <td>11</td>\n",
       "      <td>Text</td>\n",
       "      <td>12</td>\n",
       "      <td>Text</td>\n",
       "      <td>2021-11-30 00:00:00</td>\n",
       "    </tr>\n",
       "    <tr>\n",
       "      <th>1</th>\n",
       "      <td>down_node_egde</td>\n",
       "      <td>False</td>\n",
       "      <td>11</td>\n",
       "      <td>Text</td>\n",
       "      <td>10</td>\n",
       "      <td>Text</td>\n",
       "      <td>Invoice date</td>\n",
       "    </tr>\n",
       "  </tbody>\n",
       "</table>\n",
       "</div>"
      ],
      "text/plain": [
       "           e_type  directed from_id from_type to_id to_type  \\\n",
       "0  down_node_egde     False      11      Text    12    Text   \n",
       "1  down_node_egde     False      11      Text    10    Text   \n",
       "\n",
       "      attributes.value  \n",
       "0  2021-11-30 00:00:00  \n",
       "1         Invoice date  "
      ]
     },
     "execution_count": 14,
     "metadata": {},
     "output_type": "execute_result"
    }
   ],
   "source": [
    "downedge = conn.getEdges(\"Text\", \"11\", \"down_node_egde\",select=\"value\")\n",
    "\n",
    "pd.json_normalize(downedge)"
   ]
  },
  {
   "cell_type": "code",
   "execution_count": null,
   "id": "cdc51890-6ee8-4c3c-9324-66c1edd83c0a",
   "metadata": {},
   "outputs": [],
   "source": []
  }
 ],
 "metadata": {
  "kernelspec": {
   "display_name": "Python 3 (ipykernel)",
   "language": "python",
   "name": "python3"
  },
  "language_info": {
   "codemirror_mode": {
    "name": "ipython",
    "version": 3
   },
   "file_extension": ".py",
   "mimetype": "text/x-python",
   "name": "python",
   "nbconvert_exporter": "python",
   "pygments_lexer": "ipython3",
   "version": "3.10.9"
  }
 },
 "nbformat": 4,
 "nbformat_minor": 5
}
